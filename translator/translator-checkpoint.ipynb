{
 "cells": [
  {
   "cell_type": "code",
   "execution_count": 11,
   "id": "492cc9f4",
   "metadata": {},
   "outputs": [
    {
     "name": "stdout",
     "output_type": "stream",
     "text": [
      "CODEZILLA\n",
      "CZDZZZLLZ\n"
     ]
    }
   ],
   "source": [
    "def translator(string):\n",
    "    translation=\"\"\n",
    "    for letter in string:\n",
    "        if letter.lower() in \"aeiou\":\n",
    "            if letter.isupper():\n",
    "                translation+=\"Z\"\n",
    "            else:\n",
    "                translation+=\"z\"\n",
    "        else:\n",
    "            translation+=letter\n",
    "    return translation\n",
    "print(translator(input()))\n"
   ]
  }
 ],
 "metadata": {
  "kernelspec": {
   "display_name": "Python 3 (ipykernel)",
   "language": "python",
   "name": "python3"
  },
  "language_info": {
   "codemirror_mode": {
    "name": "ipython",
    "version": 3
   },
   "file_extension": ".py",
   "mimetype": "text/x-python",
   "name": "python",
   "nbconvert_exporter": "python",
   "pygments_lexer": "ipython3",
   "version": "3.9.12"
  }
 },
 "nbformat": 4,
 "nbformat_minor": 5
}
