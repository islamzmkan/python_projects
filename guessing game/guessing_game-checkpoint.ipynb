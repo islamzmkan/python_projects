{
 "cells": [
  {
   "cell_type": "code",
   "execution_count": 27,
   "id": "0d377131",
   "metadata": {},
   "outputs": [
    {
     "name": "stdout",
     "output_type": "stream",
     "text": [
      "Enter your guess cace\n",
      "Enter your guess saceasc\n",
      "Enter your guess csasa\n",
      "game over,try later\n"
     ]
    }
   ],
   "source": [
    "#word that user will guess it\n",
    "secret_word=\"luka cr7\"\n",
    "#word that he will enter \n",
    "guess_word=\"\"\n",
    "count_guess=0\n",
    "max_guess=3\n",
    "out_guess=False\n",
    "while guess_word!=secret_word and not out_guess:\n",
    "    if count_guess<max_guess:\n",
    "        guess_word=input(\"Enter your guess \")\n",
    "        count_guess+=1\n",
    "    else:\n",
    "        out_guess=True\n",
    "if out_guess:\n",
    "    print(\"game over,try later\")\n",
    "else:\n",
    "    print(\"Accepted\")"
   ]
  },
  {
   "cell_type": "code",
   "execution_count": null,
   "id": "1b79bbc1",
   "metadata": {},
   "outputs": [],
   "source": []
  }
 ],
 "metadata": {
  "kernelspec": {
   "display_name": "Python 3 (ipykernel)",
   "language": "python",
   "name": "python3"
  },
  "language_info": {
   "codemirror_mode": {
    "name": "ipython",
    "version": 3
   },
   "file_extension": ".py",
   "mimetype": "text/x-python",
   "name": "python",
   "nbconvert_exporter": "python",
   "pygments_lexer": "ipython3",
   "version": "3.9.12"
  }
 },
 "nbformat": 4,
 "nbformat_minor": 5
}
